{
 "cells": [
  {
   "cell_type": "code",
   "execution_count": null,
   "outputs": [],
   "source": [
    "import pandas as pd\n",
    "import numpy as np\n",
    "import scipy as sp\n",
    "import matplotlib.pyplot as plt\n",
    "import matplotlib\n",
    "import seaborn as sns\n",
    "# import signal_generation as sg\n",
    "# import channel_model as ch\n",
    "import hpcom\n",
    "from tqdm import tqdm\n",
    "from sklearn.ensemble import RandomForestRegressor, RandomForestClassifier\n",
    "from sklearn.ensemble import GradientBoostingRegressor\n",
    "from sklearn.model_selection import train_test_split\n",
    "from sklearn.metrics import mean_squared_error, accuracy_score\n",
    "# from sklearn.externals import joblib\n",
    "from datetime import datetime\n",
    "from importlib import reload\n",
    "reload(hpcom)\n",
    "\n",
    "from composer import *\n",
    "from estimator import *"
   ],
   "metadata": {
    "collapsed": false,
    "pycharm": {
     "name": "#%%\n"
    }
   }
  },
  {
   "cell_type": "code",
   "execution_count": null,
   "metadata": {
    "collapsed": true,
    "pycharm": {
     "name": "#%%\n"
    }
   },
   "outputs": [],
   "source": [
    "df = pd.read_pickle('data/data_collected_3.pkl')\n",
    "\n",
    "n_neighbours = 4\n",
    "n_gauss = 5\n",
    "# train_runs = [0, 1, 2, 3, 4, 5, 6, 7, 8, 9, 10]\n",
    "train_runs = [0, 1, 2, 3, 4, 5]\n",
    "test_runs = [14, 15]\n",
    "\n",
    "p_ave_dbm = 6\n",
    "z_km = 80 * 20\n",
    "n_channels = 1\n",
    "sigma = 1.5\n",
    "\n",
    "df_tree = get_data_with_m_neighbor(df, z_km, p_ave_dbm, n_channels, train_runs, n_neighbours, r=0.1, n_gauss=n_gauss)\n",
    "df_tree_for_test = get_data_with_m_neighbor(df, z_km, p_ave_dbm, n_channels, test_runs, n_neighbours, r=0.1, n_gauss=n_gauss)\n",
    "\n",
    "# df_tree = get_data_gauss_parallel(df, z_km, p_ave_dbm, n_channels, train_runs, n_neighbours, r=0.1, n_gauss=n_gauss, sigma=sigma)\n",
    "# df_tree_for_test = get_data_gauss_parallel(df, z_km, p_ave_dbm, n_channels, test_runs, n_neighbours, r=0.1, n_gauss=1, sigma=sigma)\n",
    "\n",
    "print(df_tree.head())\n",
    "df = pd.DataFrame([])\n",
    "del df"
   ]
  },
  {
   "cell_type": "code",
   "execution_count": null,
   "outputs": [],
   "source": [
    "labels_to_drop = ['point_orig_abs', 'point_orig_angle',\n",
    "                  'point_label',\n",
    "                  'diff_real', 'diff_imag',\n",
    "                  'diff_sq_real', 'diff_sq_imag',\n",
    "                  'diff_circle_real', 'diff_circle_imag',\n",
    "                  'diff_p3_real', 'diff_p3_imag']\n",
    "\n",
    "# for get_data_with_m_neighbor\n",
    "labels_to_drop = labels_to_drop + [f'diff_gauss_{m}_real' for m in range(n_gauss)] + [f'diff_gauss_{m}_imag' for m in range(n_gauss)]\n",
    "\n",
    "# for get_data_gauss_parallel\n",
    "# labels_to_drop = labels_to_drop + [f'diff_gauss_real'] + [f'diff_gauss_imag']\n",
    "\n",
    "# chose what to predict\n",
    "# label_predict = ['diff_circle_real', 'diff_circle_imag']\n",
    "label_predict = ['diff_real', 'diff_imag']\n",
    "m = 5\n",
    "# label_predict = [f'diff_gauss_{m}_real', f'diff_gauss_{m}_imag']\n",
    "# label_predict = [f'diff_gauss_real', f'diff_gauss_imag']\n",
    "# label_predict = ['diff_p3_real', 'diff_p3_imag']\n",
    "# label_predict = ['point_label']"
   ],
   "metadata": {
    "collapsed": false,
    "pycharm": {
     "name": "#%%\n"
    }
   }
  },
  {
   "cell_type": "code",
   "execution_count": null,
   "outputs": [],
   "source": [
    "X_for_test = df_tree_for_test.drop(labels=labels_to_drop, axis=1)\n",
    "points_init_for_test = df_tree_for_test['point_orig_abs'].values * np.exp(1.0j * df_tree_for_test['point_orig_angle'])\n",
    "labels_for_test = df_tree_for_test['point_label']"
   ],
   "metadata": {
    "collapsed": false,
    "pycharm": {
     "name": "#%%\n"
    }
   }
  },
  {
   "cell_type": "code",
   "execution_count": null,
   "outputs": [],
   "source": [
    "y = df_tree[[label_predict[0], label_predict[1]]].values\n",
    "X = df_tree.drop(labels=labels_to_drop, axis=1)"
   ],
   "metadata": {
    "collapsed": false,
    "pycharm": {
     "name": "#%%\n"
    }
   }
  },
  {
   "cell_type": "code",
   "execution_count": null,
   "outputs": [],
   "source": [
    "split_ratio = 0.01\n",
    "random_state = 42\n",
    "\n",
    "# X_train, X_test, y_real_train, y_real_test = train_test_split(X, y_real, test_size=split_ratio, random_state=random_state)\n",
    "# _, _, y_imag_train, y_imag_test = train_test_split(X, y_imag, test_size=split_ratio, random_state=random_state)\n",
    "X_train, X_test, y_train, y_test = train_test_split(X, y, test_size=split_ratio, random_state=random_state)\n",
    "po_abs_train, po_abs_test, po_angle_train, po_angle_test = train_test_split(df_tree['point_orig_abs'].values, df_tree['point_orig_angle'].values, test_size=split_ratio, random_state=random_state)"
   ],
   "metadata": {
    "collapsed": false,
    "pycharm": {
     "name": "#%%\n"
    }
   }
  },
  {
   "cell_type": "code",
   "execution_count": null,
   "outputs": [],
   "source": [
    "n_estimators = 300\n",
    "random_state_for_tree = 73\n",
    "start_time = datetime.now()\n",
    "model = RandomForestRegressor(n_estimators=n_estimators, random_state=random_state_for_tree, n_jobs=13, verbose=1)\n",
    "model.warm_start = True  # start from previous state of the forest (add new trees)\n",
    "# model.n_estimators += n_estimators\n",
    "model.fit(X_train, y_train)\n",
    "print(\"model real took\", (datetime.now() - start_time).total_seconds() * 1000, \"ms\")"
   ],
   "metadata": {
    "collapsed": false,
    "pycharm": {
     "name": "#%%\n"
    }
   }
  }
 ],
 "metadata": {
  "kernelspec": {
   "display_name": "Python 3",
   "language": "python",
   "name": "python3"
  },
  "language_info": {
   "codemirror_mode": {
    "name": "ipython",
    "version": 2
   },
   "file_extension": ".py",
   "mimetype": "text/x-python",
   "name": "python",
   "nbconvert_exporter": "python",
   "pygments_lexer": "ipython2",
   "version": "2.7.6"
  }
 },
 "nbformat": 4,
 "nbformat_minor": 0
}